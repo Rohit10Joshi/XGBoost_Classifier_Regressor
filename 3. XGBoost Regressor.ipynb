{
 "cells": [
  {
   "cell_type": "code",
   "execution_count": 1,
   "id": "f4e08da9",
   "metadata": {},
   "outputs": [],
   "source": [
    "# Importing all the necessary libraries\n",
    "\n",
    "import pandas as pd\n",
    "import numpy as np\n",
    "import xgboost as xgb\n",
    "from sklearn.feature_selection import VarianceThreshold\n",
    "from sklearn.model_selection import train_test_split\n",
    "from sklearn.preprocessing import StandardScaler\n",
    "from xgboost import XGBRegressor\n",
    "from sklearn.metrics import r2_score"
   ]
  },
  {
   "cell_type": "code",
   "execution_count": 2,
   "id": "aa2e0cc1",
   "metadata": {},
   "outputs": [],
   "source": [
    "data = pd.read_csv(\"Energy Dataset.csv\")   # Importing data"
   ]
  },
  {
   "cell_type": "code",
   "execution_count": 3,
   "id": "67b5e128",
   "metadata": {},
   "outputs": [
    {
     "data": {
      "text/html": [
       "<div>\n",
       "<style scoped>\n",
       "    .dataframe tbody tr th:only-of-type {\n",
       "        vertical-align: middle;\n",
       "    }\n",
       "\n",
       "    .dataframe tbody tr th {\n",
       "        vertical-align: top;\n",
       "    }\n",
       "\n",
       "    .dataframe thead th {\n",
       "        text-align: right;\n",
       "    }\n",
       "</style>\n",
       "<table border=\"1\" class=\"dataframe\">\n",
       "  <thead>\n",
       "    <tr style=\"text-align: right;\">\n",
       "      <th></th>\n",
       "      <th>X1</th>\n",
       "      <th>X2</th>\n",
       "      <th>X3</th>\n",
       "      <th>X4</th>\n",
       "      <th>X5</th>\n",
       "      <th>X6</th>\n",
       "      <th>X7</th>\n",
       "      <th>X8</th>\n",
       "      <th>Heating Load</th>\n",
       "    </tr>\n",
       "  </thead>\n",
       "  <tbody>\n",
       "    <tr>\n",
       "      <th>0</th>\n",
       "      <td>0.98</td>\n",
       "      <td>514.5</td>\n",
       "      <td>294.0</td>\n",
       "      <td>110.25</td>\n",
       "      <td>7.0</td>\n",
       "      <td>2</td>\n",
       "      <td>0.0</td>\n",
       "      <td>0</td>\n",
       "      <td>15.55</td>\n",
       "    </tr>\n",
       "    <tr>\n",
       "      <th>1</th>\n",
       "      <td>0.98</td>\n",
       "      <td>514.5</td>\n",
       "      <td>294.0</td>\n",
       "      <td>110.25</td>\n",
       "      <td>7.0</td>\n",
       "      <td>3</td>\n",
       "      <td>0.0</td>\n",
       "      <td>0</td>\n",
       "      <td>15.55</td>\n",
       "    </tr>\n",
       "    <tr>\n",
       "      <th>2</th>\n",
       "      <td>0.98</td>\n",
       "      <td>514.5</td>\n",
       "      <td>294.0</td>\n",
       "      <td>110.25</td>\n",
       "      <td>7.0</td>\n",
       "      <td>4</td>\n",
       "      <td>0.0</td>\n",
       "      <td>0</td>\n",
       "      <td>15.55</td>\n",
       "    </tr>\n",
       "    <tr>\n",
       "      <th>3</th>\n",
       "      <td>0.98</td>\n",
       "      <td>514.5</td>\n",
       "      <td>294.0</td>\n",
       "      <td>110.25</td>\n",
       "      <td>7.0</td>\n",
       "      <td>5</td>\n",
       "      <td>0.0</td>\n",
       "      <td>0</td>\n",
       "      <td>15.55</td>\n",
       "    </tr>\n",
       "    <tr>\n",
       "      <th>4</th>\n",
       "      <td>0.90</td>\n",
       "      <td>563.5</td>\n",
       "      <td>318.5</td>\n",
       "      <td>122.50</td>\n",
       "      <td>7.0</td>\n",
       "      <td>2</td>\n",
       "      <td>0.0</td>\n",
       "      <td>0</td>\n",
       "      <td>20.84</td>\n",
       "    </tr>\n",
       "  </tbody>\n",
       "</table>\n",
       "</div>"
      ],
      "text/plain": [
       "     X1     X2     X3      X4   X5  X6   X7  X8  Heating Load\n",
       "0  0.98  514.5  294.0  110.25  7.0   2  0.0   0         15.55\n",
       "1  0.98  514.5  294.0  110.25  7.0   3  0.0   0         15.55\n",
       "2  0.98  514.5  294.0  110.25  7.0   4  0.0   0         15.55\n",
       "3  0.98  514.5  294.0  110.25  7.0   5  0.0   0         15.55\n",
       "4  0.90  563.5  318.5  122.50  7.0   2  0.0   0         20.84"
      ]
     },
     "execution_count": 3,
     "metadata": {},
     "output_type": "execute_result"
    }
   ],
   "source": [
    "data.head()"
   ]
  },
  {
   "cell_type": "code",
   "execution_count": 4,
   "id": "3d979747",
   "metadata": {},
   "outputs": [
    {
     "name": "stdout",
     "output_type": "stream",
     "text": [
      "<class 'pandas.core.frame.DataFrame'>\n",
      "RangeIndex: 768 entries, 0 to 767\n",
      "Data columns (total 9 columns):\n",
      " #   Column        Non-Null Count  Dtype  \n",
      "---  ------        --------------  -----  \n",
      " 0   X1            768 non-null    float64\n",
      " 1   X2            768 non-null    float64\n",
      " 2   X3            768 non-null    float64\n",
      " 3   X4            768 non-null    float64\n",
      " 4   X5            768 non-null    float64\n",
      " 5   X6            768 non-null    int64  \n",
      " 6   X7            768 non-null    float64\n",
      " 7   X8            768 non-null    int64  \n",
      " 8   Heating Load  768 non-null    float64\n",
      "dtypes: float64(7), int64(2)\n",
      "memory usage: 54.1 KB\n"
     ]
    }
   ],
   "source": [
    "data.info()"
   ]
  },
  {
   "cell_type": "code",
   "execution_count": 5,
   "id": "c877e696",
   "metadata": {
    "scrolled": true
   },
   "outputs": [
    {
     "data": {
      "text/plain": [
       "X1              0\n",
       "X2              0\n",
       "X3              0\n",
       "X4              0\n",
       "X5              0\n",
       "X6              0\n",
       "X7              0\n",
       "X8              0\n",
       "Heating Load    0\n",
       "dtype: int64"
      ]
     },
     "execution_count": 5,
     "metadata": {},
     "output_type": "execute_result"
    }
   ],
   "source": [
    "data.isnull().sum()    # Checking no of Null values present in each column "
   ]
  },
  {
   "cell_type": "markdown",
   "id": "5e3c6c1a",
   "metadata": {},
   "source": [
    "### Checking variance value for each column to know constant columns"
   ]
  },
  {
   "cell_type": "code",
   "execution_count": 6,
   "id": "ec6ff46e",
   "metadata": {
    "scrolled": true
   },
   "outputs": [
    {
     "data": {
      "text/plain": [
       "X1                 0.011189\n",
       "X2              7759.163842\n",
       "X3              1903.269883\n",
       "X4              2039.963060\n",
       "X5                 3.066493\n",
       "X6                 1.251630\n",
       "X7                 0.017748\n",
       "X8                 2.405476\n",
       "Heating Load     101.812050\n",
       "dtype: float64"
      ]
     },
     "execution_count": 6,
     "metadata": {},
     "output_type": "execute_result"
    }
   ],
   "source": [
    "data.var()"
   ]
  },
  {
   "cell_type": "code",
   "execution_count": 7,
   "id": "848b9082",
   "metadata": {},
   "outputs": [],
   "source": [
    "varT = VarianceThreshold(threshold=0.2)     # Setting the threshold limit to eliminate constant columns\n",
    "varT.fit(data)\n",
    "varT.get_support()\n",
    "constant_columns = data.columns[varT.get_support() == False]    # Getting the constant column names"
   ]
  },
  {
   "cell_type": "code",
   "execution_count": 8,
   "id": "6a7b5a92",
   "metadata": {},
   "outputs": [
    {
     "data": {
      "text/plain": [
       "Index(['X1', 'X7'], dtype='object')"
      ]
     },
     "execution_count": 8,
     "metadata": {},
     "output_type": "execute_result"
    }
   ],
   "source": [
    "constant_columns"
   ]
  },
  {
   "cell_type": "code",
   "execution_count": 9,
   "id": "3e5430bd",
   "metadata": {},
   "outputs": [],
   "source": [
    "data.drop(constant_columns,axis=1,inplace=True)     # Dropping constant columns"
   ]
  },
  {
   "cell_type": "markdown",
   "id": "3eec8e11",
   "metadata": {},
   "source": [
    "### Splitting the data into IV and DV "
   ]
  },
  {
   "cell_type": "code",
   "execution_count": 10,
   "id": "e11eb723",
   "metadata": {},
   "outputs": [
    {
     "data": {
      "text/html": [
       "<div>\n",
       "<style scoped>\n",
       "    .dataframe tbody tr th:only-of-type {\n",
       "        vertical-align: middle;\n",
       "    }\n",
       "\n",
       "    .dataframe tbody tr th {\n",
       "        vertical-align: top;\n",
       "    }\n",
       "\n",
       "    .dataframe thead th {\n",
       "        text-align: right;\n",
       "    }\n",
       "</style>\n",
       "<table border=\"1\" class=\"dataframe\">\n",
       "  <thead>\n",
       "    <tr style=\"text-align: right;\">\n",
       "      <th></th>\n",
       "      <th>X2</th>\n",
       "      <th>X3</th>\n",
       "      <th>X4</th>\n",
       "      <th>X5</th>\n",
       "      <th>X6</th>\n",
       "      <th>X8</th>\n",
       "      <th>Heating Load</th>\n",
       "    </tr>\n",
       "  </thead>\n",
       "  <tbody>\n",
       "    <tr>\n",
       "      <th>0</th>\n",
       "      <td>514.5</td>\n",
       "      <td>294.0</td>\n",
       "      <td>110.25</td>\n",
       "      <td>7.0</td>\n",
       "      <td>2</td>\n",
       "      <td>0</td>\n",
       "      <td>15.55</td>\n",
       "    </tr>\n",
       "    <tr>\n",
       "      <th>1</th>\n",
       "      <td>514.5</td>\n",
       "      <td>294.0</td>\n",
       "      <td>110.25</td>\n",
       "      <td>7.0</td>\n",
       "      <td>3</td>\n",
       "      <td>0</td>\n",
       "      <td>15.55</td>\n",
       "    </tr>\n",
       "    <tr>\n",
       "      <th>2</th>\n",
       "      <td>514.5</td>\n",
       "      <td>294.0</td>\n",
       "      <td>110.25</td>\n",
       "      <td>7.0</td>\n",
       "      <td>4</td>\n",
       "      <td>0</td>\n",
       "      <td>15.55</td>\n",
       "    </tr>\n",
       "    <tr>\n",
       "      <th>3</th>\n",
       "      <td>514.5</td>\n",
       "      <td>294.0</td>\n",
       "      <td>110.25</td>\n",
       "      <td>7.0</td>\n",
       "      <td>5</td>\n",
       "      <td>0</td>\n",
       "      <td>15.55</td>\n",
       "    </tr>\n",
       "    <tr>\n",
       "      <th>4</th>\n",
       "      <td>563.5</td>\n",
       "      <td>318.5</td>\n",
       "      <td>122.50</td>\n",
       "      <td>7.0</td>\n",
       "      <td>2</td>\n",
       "      <td>0</td>\n",
       "      <td>20.84</td>\n",
       "    </tr>\n",
       "    <tr>\n",
       "      <th>...</th>\n",
       "      <td>...</td>\n",
       "      <td>...</td>\n",
       "      <td>...</td>\n",
       "      <td>...</td>\n",
       "      <td>...</td>\n",
       "      <td>...</td>\n",
       "      <td>...</td>\n",
       "    </tr>\n",
       "    <tr>\n",
       "      <th>763</th>\n",
       "      <td>784.0</td>\n",
       "      <td>343.0</td>\n",
       "      <td>220.50</td>\n",
       "      <td>3.5</td>\n",
       "      <td>5</td>\n",
       "      <td>5</td>\n",
       "      <td>17.88</td>\n",
       "    </tr>\n",
       "    <tr>\n",
       "      <th>764</th>\n",
       "      <td>808.5</td>\n",
       "      <td>367.5</td>\n",
       "      <td>220.50</td>\n",
       "      <td>3.5</td>\n",
       "      <td>2</td>\n",
       "      <td>5</td>\n",
       "      <td>16.54</td>\n",
       "    </tr>\n",
       "    <tr>\n",
       "      <th>765</th>\n",
       "      <td>808.5</td>\n",
       "      <td>367.5</td>\n",
       "      <td>220.50</td>\n",
       "      <td>3.5</td>\n",
       "      <td>3</td>\n",
       "      <td>5</td>\n",
       "      <td>16.44</td>\n",
       "    </tr>\n",
       "    <tr>\n",
       "      <th>766</th>\n",
       "      <td>808.5</td>\n",
       "      <td>367.5</td>\n",
       "      <td>220.50</td>\n",
       "      <td>3.5</td>\n",
       "      <td>4</td>\n",
       "      <td>5</td>\n",
       "      <td>16.48</td>\n",
       "    </tr>\n",
       "    <tr>\n",
       "      <th>767</th>\n",
       "      <td>808.5</td>\n",
       "      <td>367.5</td>\n",
       "      <td>220.50</td>\n",
       "      <td>3.5</td>\n",
       "      <td>5</td>\n",
       "      <td>5</td>\n",
       "      <td>16.64</td>\n",
       "    </tr>\n",
       "  </tbody>\n",
       "</table>\n",
       "<p>768 rows × 7 columns</p>\n",
       "</div>"
      ],
      "text/plain": [
       "        X2     X3      X4   X5  X6  X8  Heating Load\n",
       "0    514.5  294.0  110.25  7.0   2   0         15.55\n",
       "1    514.5  294.0  110.25  7.0   3   0         15.55\n",
       "2    514.5  294.0  110.25  7.0   4   0         15.55\n",
       "3    514.5  294.0  110.25  7.0   5   0         15.55\n",
       "4    563.5  318.5  122.50  7.0   2   0         20.84\n",
       "..     ...    ...     ...  ...  ..  ..           ...\n",
       "763  784.0  343.0  220.50  3.5   5   5         17.88\n",
       "764  808.5  367.5  220.50  3.5   2   5         16.54\n",
       "765  808.5  367.5  220.50  3.5   3   5         16.44\n",
       "766  808.5  367.5  220.50  3.5   4   5         16.48\n",
       "767  808.5  367.5  220.50  3.5   5   5         16.64\n",
       "\n",
       "[768 rows x 7 columns]"
      ]
     },
     "execution_count": 10,
     "metadata": {},
     "output_type": "execute_result"
    }
   ],
   "source": [
    "data"
   ]
  },
  {
   "cell_type": "code",
   "execution_count": 11,
   "id": "b7445405",
   "metadata": {},
   "outputs": [],
   "source": [
    "X = data[['X2', 'X3', 'X4', 'X5', 'X6', 'X8']]   # IV"
   ]
  },
  {
   "cell_type": "code",
   "execution_count": 12,
   "id": "246c5547",
   "metadata": {},
   "outputs": [],
   "source": [
    "# Sacling the IV\n",
    "\n",
    "scaler = StandardScaler()\n",
    "X = scaler.fit_transform(X) "
   ]
  },
  {
   "cell_type": "code",
   "execution_count": 13,
   "id": "536fac63",
   "metadata": {},
   "outputs": [
    {
     "data": {
      "text/plain": [
       "array([[-1.78587489, -0.56195149, -1.47007664,  1.        , -1.34164079,\n",
       "        -1.81457514],\n",
       "       [-1.78587489, -0.56195149, -1.47007664,  1.        , -0.4472136 ,\n",
       "        -1.81457514],\n",
       "       [-1.78587489, -0.56195149, -1.47007664,  1.        ,  0.4472136 ,\n",
       "        -1.81457514],\n",
       "       ...,\n",
       "       [ 1.55394308,  1.12390297,  0.97251224, -1.        , -0.4472136 ,\n",
       "         1.41133622],\n",
       "       [ 1.55394308,  1.12390297,  0.97251224, -1.        ,  0.4472136 ,\n",
       "         1.41133622],\n",
       "       [ 1.55394308,  1.12390297,  0.97251224, -1.        ,  1.34164079,\n",
       "         1.41133622]])"
      ]
     },
     "execution_count": 13,
     "metadata": {},
     "output_type": "execute_result"
    }
   ],
   "source": [
    "X"
   ]
  },
  {
   "cell_type": "code",
   "execution_count": 14,
   "id": "c15ebb38",
   "metadata": {},
   "outputs": [],
   "source": [
    "Scaled_X = pd.DataFrame(X,columns = ['X2', 'X3', 'X4', 'X5', 'X6', 'X8'])  # Converting into dataframe"
   ]
  },
  {
   "cell_type": "code",
   "execution_count": 15,
   "id": "d48a372f",
   "metadata": {},
   "outputs": [
    {
     "data": {
      "text/html": [
       "<div>\n",
       "<style scoped>\n",
       "    .dataframe tbody tr th:only-of-type {\n",
       "        vertical-align: middle;\n",
       "    }\n",
       "\n",
       "    .dataframe tbody tr th {\n",
       "        vertical-align: top;\n",
       "    }\n",
       "\n",
       "    .dataframe thead th {\n",
       "        text-align: right;\n",
       "    }\n",
       "</style>\n",
       "<table border=\"1\" class=\"dataframe\">\n",
       "  <thead>\n",
       "    <tr style=\"text-align: right;\">\n",
       "      <th></th>\n",
       "      <th>X2</th>\n",
       "      <th>X3</th>\n",
       "      <th>X4</th>\n",
       "      <th>X5</th>\n",
       "      <th>X6</th>\n",
       "      <th>X8</th>\n",
       "    </tr>\n",
       "  </thead>\n",
       "  <tbody>\n",
       "    <tr>\n",
       "      <th>0</th>\n",
       "      <td>-1.785875</td>\n",
       "      <td>-0.561951</td>\n",
       "      <td>-1.470077</td>\n",
       "      <td>1.0</td>\n",
       "      <td>-1.341641</td>\n",
       "      <td>-1.814575</td>\n",
       "    </tr>\n",
       "    <tr>\n",
       "      <th>1</th>\n",
       "      <td>-1.785875</td>\n",
       "      <td>-0.561951</td>\n",
       "      <td>-1.470077</td>\n",
       "      <td>1.0</td>\n",
       "      <td>-0.447214</td>\n",
       "      <td>-1.814575</td>\n",
       "    </tr>\n",
       "    <tr>\n",
       "      <th>2</th>\n",
       "      <td>-1.785875</td>\n",
       "      <td>-0.561951</td>\n",
       "      <td>-1.470077</td>\n",
       "      <td>1.0</td>\n",
       "      <td>0.447214</td>\n",
       "      <td>-1.814575</td>\n",
       "    </tr>\n",
       "    <tr>\n",
       "      <th>3</th>\n",
       "      <td>-1.785875</td>\n",
       "      <td>-0.561951</td>\n",
       "      <td>-1.470077</td>\n",
       "      <td>1.0</td>\n",
       "      <td>1.341641</td>\n",
       "      <td>-1.814575</td>\n",
       "    </tr>\n",
       "    <tr>\n",
       "      <th>4</th>\n",
       "      <td>-1.229239</td>\n",
       "      <td>0.000000</td>\n",
       "      <td>-1.198678</td>\n",
       "      <td>1.0</td>\n",
       "      <td>-1.341641</td>\n",
       "      <td>-1.814575</td>\n",
       "    </tr>\n",
       "    <tr>\n",
       "      <th>...</th>\n",
       "      <td>...</td>\n",
       "      <td>...</td>\n",
       "      <td>...</td>\n",
       "      <td>...</td>\n",
       "      <td>...</td>\n",
       "      <td>...</td>\n",
       "    </tr>\n",
       "    <tr>\n",
       "      <th>763</th>\n",
       "      <td>1.275625</td>\n",
       "      <td>0.561951</td>\n",
       "      <td>0.972512</td>\n",
       "      <td>-1.0</td>\n",
       "      <td>1.341641</td>\n",
       "      <td>1.411336</td>\n",
       "    </tr>\n",
       "    <tr>\n",
       "      <th>764</th>\n",
       "      <td>1.553943</td>\n",
       "      <td>1.123903</td>\n",
       "      <td>0.972512</td>\n",
       "      <td>-1.0</td>\n",
       "      <td>-1.341641</td>\n",
       "      <td>1.411336</td>\n",
       "    </tr>\n",
       "    <tr>\n",
       "      <th>765</th>\n",
       "      <td>1.553943</td>\n",
       "      <td>1.123903</td>\n",
       "      <td>0.972512</td>\n",
       "      <td>-1.0</td>\n",
       "      <td>-0.447214</td>\n",
       "      <td>1.411336</td>\n",
       "    </tr>\n",
       "    <tr>\n",
       "      <th>766</th>\n",
       "      <td>1.553943</td>\n",
       "      <td>1.123903</td>\n",
       "      <td>0.972512</td>\n",
       "      <td>-1.0</td>\n",
       "      <td>0.447214</td>\n",
       "      <td>1.411336</td>\n",
       "    </tr>\n",
       "    <tr>\n",
       "      <th>767</th>\n",
       "      <td>1.553943</td>\n",
       "      <td>1.123903</td>\n",
       "      <td>0.972512</td>\n",
       "      <td>-1.0</td>\n",
       "      <td>1.341641</td>\n",
       "      <td>1.411336</td>\n",
       "    </tr>\n",
       "  </tbody>\n",
       "</table>\n",
       "<p>768 rows × 6 columns</p>\n",
       "</div>"
      ],
      "text/plain": [
       "           X2        X3        X4   X5        X6        X8\n",
       "0   -1.785875 -0.561951 -1.470077  1.0 -1.341641 -1.814575\n",
       "1   -1.785875 -0.561951 -1.470077  1.0 -0.447214 -1.814575\n",
       "2   -1.785875 -0.561951 -1.470077  1.0  0.447214 -1.814575\n",
       "3   -1.785875 -0.561951 -1.470077  1.0  1.341641 -1.814575\n",
       "4   -1.229239  0.000000 -1.198678  1.0 -1.341641 -1.814575\n",
       "..        ...       ...       ...  ...       ...       ...\n",
       "763  1.275625  0.561951  0.972512 -1.0  1.341641  1.411336\n",
       "764  1.553943  1.123903  0.972512 -1.0 -1.341641  1.411336\n",
       "765  1.553943  1.123903  0.972512 -1.0 -0.447214  1.411336\n",
       "766  1.553943  1.123903  0.972512 -1.0  0.447214  1.411336\n",
       "767  1.553943  1.123903  0.972512 -1.0  1.341641  1.411336\n",
       "\n",
       "[768 rows x 6 columns]"
      ]
     },
     "execution_count": 15,
     "metadata": {},
     "output_type": "execute_result"
    }
   ],
   "source": [
    "Scaled_X"
   ]
  },
  {
   "cell_type": "code",
   "execution_count": 16,
   "id": "614559ee",
   "metadata": {},
   "outputs": [],
   "source": [
    "y = data['Heating Load']   # DV"
   ]
  },
  {
   "cell_type": "code",
   "execution_count": 17,
   "id": "2036a612",
   "metadata": {},
   "outputs": [
    {
     "data": {
      "text/plain": [
       "0      15.55\n",
       "1      15.55\n",
       "2      15.55\n",
       "3      15.55\n",
       "4      20.84\n",
       "       ...  \n",
       "763    17.88\n",
       "764    16.54\n",
       "765    16.44\n",
       "766    16.48\n",
       "767    16.64\n",
       "Name: Heating Load, Length: 768, dtype: float64"
      ]
     },
     "execution_count": 17,
     "metadata": {},
     "output_type": "execute_result"
    }
   ],
   "source": [
    "y"
   ]
  },
  {
   "cell_type": "markdown",
   "id": "e3beec7d",
   "metadata": {},
   "source": [
    "### Training the XGBoost Regressor model "
   ]
  },
  {
   "cell_type": "code",
   "execution_count": 18,
   "id": "bae80848",
   "metadata": {},
   "outputs": [
    {
     "name": "stdout",
     "output_type": "stream",
     "text": [
      "x_train shape - (614, 6)\n",
      "x_test shape - (154, 6)\n",
      "The r2_score value of XGBoost Regressor Model is - 0.90\n"
     ]
    }
   ],
   "source": [
    "# Splitting data into training and testing data\n",
    "x_train,x_test,y_train,y_test = train_test_split(Scaled_X,y, test_size = 0.2)\n",
    "print('x_train shape -', x_train.shape)\n",
    "print('x_test shape -', x_test.shape)\n",
    "\n",
    "# Creating and training the Random forest Regressor model\n",
    "xg_reg = XGBRegressor(max_depth = 5, n_estimators = 100)\n",
    "xg_reg.fit(x_train,y_train)\n",
    "y_pred = xg_reg.predict(x_test)\n",
    "\n",
    "# Checking r2_score\n",
    "r2_score = r2_score(y_test,y_pred)\n",
    "print(f'The r2_score value of XGBoost Regressor Model is - {r2_score:.2f}')"
   ]
  },
  {
   "cell_type": "markdown",
   "id": "005197f1",
   "metadata": {},
   "source": [
    "### Predicting the 'Heating Load' value "
   ]
  },
  {
   "cell_type": "code",
   "execution_count": 19,
   "id": "06057ca5",
   "metadata": {},
   "outputs": [
    {
     "data": {
      "text/html": [
       "<div>\n",
       "<style scoped>\n",
       "    .dataframe tbody tr th:only-of-type {\n",
       "        vertical-align: middle;\n",
       "    }\n",
       "\n",
       "    .dataframe tbody tr th {\n",
       "        vertical-align: top;\n",
       "    }\n",
       "\n",
       "    .dataframe thead th {\n",
       "        text-align: right;\n",
       "    }\n",
       "</style>\n",
       "<table border=\"1\" class=\"dataframe\">\n",
       "  <thead>\n",
       "    <tr style=\"text-align: right;\">\n",
       "      <th></th>\n",
       "      <th>X2</th>\n",
       "      <th>X3</th>\n",
       "      <th>X4</th>\n",
       "      <th>X5</th>\n",
       "      <th>X6</th>\n",
       "      <th>X8</th>\n",
       "    </tr>\n",
       "  </thead>\n",
       "  <tbody>\n",
       "    <tr>\n",
       "      <th>0</th>\n",
       "      <td>-1.785875</td>\n",
       "      <td>-0.561951</td>\n",
       "      <td>-1.470077</td>\n",
       "      <td>1.0</td>\n",
       "      <td>-1.341641</td>\n",
       "      <td>-1.814575</td>\n",
       "    </tr>\n",
       "    <tr>\n",
       "      <th>1</th>\n",
       "      <td>-1.785875</td>\n",
       "      <td>-0.561951</td>\n",
       "      <td>-1.470077</td>\n",
       "      <td>1.0</td>\n",
       "      <td>-0.447214</td>\n",
       "      <td>-1.814575</td>\n",
       "    </tr>\n",
       "    <tr>\n",
       "      <th>2</th>\n",
       "      <td>-1.785875</td>\n",
       "      <td>-0.561951</td>\n",
       "      <td>-1.470077</td>\n",
       "      <td>1.0</td>\n",
       "      <td>0.447214</td>\n",
       "      <td>-1.814575</td>\n",
       "    </tr>\n",
       "    <tr>\n",
       "      <th>3</th>\n",
       "      <td>-1.785875</td>\n",
       "      <td>-0.561951</td>\n",
       "      <td>-1.470077</td>\n",
       "      <td>1.0</td>\n",
       "      <td>1.341641</td>\n",
       "      <td>-1.814575</td>\n",
       "    </tr>\n",
       "    <tr>\n",
       "      <th>4</th>\n",
       "      <td>-1.229239</td>\n",
       "      <td>0.000000</td>\n",
       "      <td>-1.198678</td>\n",
       "      <td>1.0</td>\n",
       "      <td>-1.341641</td>\n",
       "      <td>-1.814575</td>\n",
       "    </tr>\n",
       "    <tr>\n",
       "      <th>...</th>\n",
       "      <td>...</td>\n",
       "      <td>...</td>\n",
       "      <td>...</td>\n",
       "      <td>...</td>\n",
       "      <td>...</td>\n",
       "      <td>...</td>\n",
       "    </tr>\n",
       "    <tr>\n",
       "      <th>763</th>\n",
       "      <td>1.275625</td>\n",
       "      <td>0.561951</td>\n",
       "      <td>0.972512</td>\n",
       "      <td>-1.0</td>\n",
       "      <td>1.341641</td>\n",
       "      <td>1.411336</td>\n",
       "    </tr>\n",
       "    <tr>\n",
       "      <th>764</th>\n",
       "      <td>1.553943</td>\n",
       "      <td>1.123903</td>\n",
       "      <td>0.972512</td>\n",
       "      <td>-1.0</td>\n",
       "      <td>-1.341641</td>\n",
       "      <td>1.411336</td>\n",
       "    </tr>\n",
       "    <tr>\n",
       "      <th>765</th>\n",
       "      <td>1.553943</td>\n",
       "      <td>1.123903</td>\n",
       "      <td>0.972512</td>\n",
       "      <td>-1.0</td>\n",
       "      <td>-0.447214</td>\n",
       "      <td>1.411336</td>\n",
       "    </tr>\n",
       "    <tr>\n",
       "      <th>766</th>\n",
       "      <td>1.553943</td>\n",
       "      <td>1.123903</td>\n",
       "      <td>0.972512</td>\n",
       "      <td>-1.0</td>\n",
       "      <td>0.447214</td>\n",
       "      <td>1.411336</td>\n",
       "    </tr>\n",
       "    <tr>\n",
       "      <th>767</th>\n",
       "      <td>1.553943</td>\n",
       "      <td>1.123903</td>\n",
       "      <td>0.972512</td>\n",
       "      <td>-1.0</td>\n",
       "      <td>1.341641</td>\n",
       "      <td>1.411336</td>\n",
       "    </tr>\n",
       "  </tbody>\n",
       "</table>\n",
       "<p>768 rows × 6 columns</p>\n",
       "</div>"
      ],
      "text/plain": [
       "           X2        X3        X4   X5        X6        X8\n",
       "0   -1.785875 -0.561951 -1.470077  1.0 -1.341641 -1.814575\n",
       "1   -1.785875 -0.561951 -1.470077  1.0 -0.447214 -1.814575\n",
       "2   -1.785875 -0.561951 -1.470077  1.0  0.447214 -1.814575\n",
       "3   -1.785875 -0.561951 -1.470077  1.0  1.341641 -1.814575\n",
       "4   -1.229239  0.000000 -1.198678  1.0 -1.341641 -1.814575\n",
       "..        ...       ...       ...  ...       ...       ...\n",
       "763  1.275625  0.561951  0.972512 -1.0  1.341641  1.411336\n",
       "764  1.553943  1.123903  0.972512 -1.0 -1.341641  1.411336\n",
       "765  1.553943  1.123903  0.972512 -1.0 -0.447214  1.411336\n",
       "766  1.553943  1.123903  0.972512 -1.0  0.447214  1.411336\n",
       "767  1.553943  1.123903  0.972512 -1.0  1.341641  1.411336\n",
       "\n",
       "[768 rows x 6 columns]"
      ]
     },
     "execution_count": 19,
     "metadata": {},
     "output_type": "execute_result"
    }
   ],
   "source": [
    "Scaled_X"
   ]
  },
  {
   "cell_type": "code",
   "execution_count": 20,
   "id": "007b96f8",
   "metadata": {
    "scrolled": true
   },
   "outputs": [
    {
     "data": {
      "text/plain": [
       "array([15.432874], dtype=float32)"
      ]
     },
     "execution_count": 20,
     "metadata": {},
     "output_type": "execute_result"
    }
   ],
   "source": [
    "xg_reg.predict([[-1.785875,-0.561951,-1.470077,1.0,1.341641,-1.814575]])"
   ]
  }
 ],
 "metadata": {
  "kernelspec": {
   "display_name": "Python 3 (ipykernel)",
   "language": "python",
   "name": "python3"
  },
  "language_info": {
   "codemirror_mode": {
    "name": "ipython",
    "version": 3
   },
   "file_extension": ".py",
   "mimetype": "text/x-python",
   "name": "python",
   "nbconvert_exporter": "python",
   "pygments_lexer": "ipython3",
   "version": "3.10.9"
  }
 },
 "nbformat": 4,
 "nbformat_minor": 5
}
